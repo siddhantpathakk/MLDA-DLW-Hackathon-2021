{
 "cells": [
  {
   "cell_type": "code",
   "execution_count": 1,
   "metadata": {},
   "outputs": [],
   "source": [
    "import tweepy"
   ]
  },
  {
   "cell_type": "code",
   "execution_count": 16,
   "metadata": {},
   "outputs": [],
   "source": [
    "import re\n",
    "import io"
   ]
  },
  {
   "cell_type": "code",
   "execution_count": 2,
   "metadata": {},
   "outputs": [],
   "source": [
    "import pandas as pd\n",
    "import numpy as np\n",
    "import matplotlib.pyplot as plt\n",
    "import random\n",
    "import csv"
   ]
  },
  {
   "cell_type": "code",
   "execution_count": 3,
   "metadata": {},
   "outputs": [],
   "source": [
    "from datetime import datetime"
   ]
  },
  {
   "cell_type": "code",
   "execution_count": 10,
   "metadata": {},
   "outputs": [],
   "source": [
    "consumer_key    = '3jmA1BqasLHfItBXj3KnAIGFB'\n",
    "consumer_secret = 'imyEeVTctFZuK62QHmL1I0AUAMudg5HKJDfkx0oR7oFbFinbvA'\n",
    "access_token  = '265857263-pF1DRxgIcxUbxEEFtLwLODPzD3aMl6d4zOKlMnme'\n",
    "access_token_secret = 'uUFoOOGeNJfOYD3atlcmPtaxxniXxQzAU4ESJLopA1lbC'"
   ]
  },
  {
   "cell_type": "raw",
   "metadata": {},
   "source": [
    "consumer_key = 'sz6x0nvL0ls9wacR64MZu23z4'\n",
    "consumer_secret = 'ofeGnzduikcHX6iaQMqBCIJ666m6nXAQACIAXMJaFhmC6rjRmT'\n",
    "access_token = '854004678127910913-PUPfQYxIjpBWjXOgE25kys8kmDJdY0G'\n",
    "access_token_secret = 'BC2TxbhKXkdkZ91DXofF7GX8p2JNfbpHqhshW1bwQkgxN'"
   ]
  },
  {
   "cell_type": "code",
   "execution_count": 11,
   "metadata": {},
   "outputs": [],
   "source": [
    "auth = tweepy.OAuthHandler(consumer_key, consumer_secret)\n",
    "auth.set_access_token(access_token, access_token_secret)\n",
    "api = tweepy.API(auth,wait_on_rate_limit=True)"
   ]
  },
  {
   "cell_type": "code",
   "execution_count": 12,
   "metadata": {},
   "outputs": [],
   "source": [
    "fetch_tweets=tweepy.Cursor(api.search_tweets, q=\"#Bitcoin\", lang =\"en\",tweet_mode=\"extended\").items()"
   ]
  },
  {
   "cell_type": "raw",
   "metadata": {},
   "source": [
    "fetch_tweets=tweepy.Cursor(api.search_tweets, q=\"#Bitcoin\",count=100, lang =\"en\",since=today, tweet_mode=\"extended\").items()"
   ]
  },
  {
   "cell_type": "raw",
   "metadata": {},
   "source": [
    "fetch_tweets=tweepy.Cursor(api.search_tweets, q=\"#Bitcoin\",count=100, lang =\"en\",since=today).items()"
   ]
  },
  {
   "cell_type": "code",
   "execution_count": null,
   "metadata": {},
   "outputs": [],
   "source": []
  },
  {
   "cell_type": "code",
   "execution_count": null,
   "metadata": {},
   "outputs": [
    {
     "name": "stderr",
     "output_type": "stream",
     "text": [
      "Rate limit reached. Sleeping for: 594\n"
     ]
    }
   ],
   "source": [
    "data=pd.DataFrame(data=[[tweet_info.created_at.date(),tweet_info.full_text]for tweet_info in fetch_tweets],columns=['Date','Tweets'])"
   ]
  },
  {
   "cell_type": "code",
   "execution_count": 14,
   "metadata": {},
   "outputs": [
    {
     "data": {
      "text/html": [
       "<div>\n",
       "<style scoped>\n",
       "    .dataframe tbody tr th:only-of-type {\n",
       "        vertical-align: middle;\n",
       "    }\n",
       "\n",
       "    .dataframe tbody tr th {\n",
       "        vertical-align: top;\n",
       "    }\n",
       "\n",
       "    .dataframe thead th {\n",
       "        text-align: right;\n",
       "    }\n",
       "</style>\n",
       "<table border=\"1\" class=\"dataframe\">\n",
       "  <thead>\n",
       "    <tr style=\"text-align: right;\">\n",
       "      <th></th>\n",
       "      <th>Date</th>\n",
       "      <th>Tweets</th>\n",
       "    </tr>\n",
       "  </thead>\n",
       "  <tbody>\n",
       "    <tr>\n",
       "      <th>0</th>\n",
       "      <td>2021-10-15</td>\n",
       "      <td>Status(_api=None, _json={'created_at': 'Fri Oc...</td>\n",
       "    </tr>\n",
       "    <tr>\n",
       "      <th>1</th>\n",
       "      <td>2021-10-15</td>\n",
       "      <td>Status(_api=None, _json={'created_at': 'Fri Oc...</td>\n",
       "    </tr>\n",
       "    <tr>\n",
       "      <th>2</th>\n",
       "      <td>2021-10-15</td>\n",
       "      <td>Status(_api=None, _json={'created_at': 'Fri Oc...</td>\n",
       "    </tr>\n",
       "    <tr>\n",
       "      <th>3</th>\n",
       "      <td>2021-10-15</td>\n",
       "      <td>Status(_api=None, _json={'created_at': 'Fri Oc...</td>\n",
       "    </tr>\n",
       "    <tr>\n",
       "      <th>4</th>\n",
       "      <td>2021-10-15</td>\n",
       "      <td>Status(_api=None, _json={'created_at': 'Fri Oc...</td>\n",
       "    </tr>\n",
       "    <tr>\n",
       "      <th>...</th>\n",
       "      <td>...</td>\n",
       "      <td>...</td>\n",
       "    </tr>\n",
       "    <tr>\n",
       "      <th>97440</th>\n",
       "      <td>2021-10-15</td>\n",
       "      <td>Status(_api=None, _json={'created_at': 'Fri Oc...</td>\n",
       "    </tr>\n",
       "    <tr>\n",
       "      <th>97441</th>\n",
       "      <td>2021-10-15</td>\n",
       "      <td>Status(_api=None, _json={'created_at': 'Fri Oc...</td>\n",
       "    </tr>\n",
       "    <tr>\n",
       "      <th>97442</th>\n",
       "      <td>2021-10-15</td>\n",
       "      <td>Status(_api=None, _json={'created_at': 'Fri Oc...</td>\n",
       "    </tr>\n",
       "    <tr>\n",
       "      <th>97443</th>\n",
       "      <td>2021-10-15</td>\n",
       "      <td>Status(_api=None, _json={'created_at': 'Fri Oc...</td>\n",
       "    </tr>\n",
       "    <tr>\n",
       "      <th>97444</th>\n",
       "      <td>2021-10-15</td>\n",
       "      <td>Status(_api=None, _json={'created_at': 'Fri Oc...</td>\n",
       "    </tr>\n",
       "  </tbody>\n",
       "</table>\n",
       "<p>97445 rows × 2 columns</p>\n",
       "</div>"
      ],
      "text/plain": [
       "             Date                                             Tweets\n",
       "0      2021-10-15  Status(_api=None, _json={'created_at': 'Fri Oc...\n",
       "1      2021-10-15  Status(_api=None, _json={'created_at': 'Fri Oc...\n",
       "2      2021-10-15  Status(_api=None, _json={'created_at': 'Fri Oc...\n",
       "3      2021-10-15  Status(_api=None, _json={'created_at': 'Fri Oc...\n",
       "4      2021-10-15  Status(_api=None, _json={'created_at': 'Fri Oc...\n",
       "...           ...                                                ...\n",
       "97440  2021-10-15  Status(_api=None, _json={'created_at': 'Fri Oc...\n",
       "97441  2021-10-15  Status(_api=None, _json={'created_at': 'Fri Oc...\n",
       "97442  2021-10-15  Status(_api=None, _json={'created_at': 'Fri Oc...\n",
       "97443  2021-10-15  Status(_api=None, _json={'created_at': 'Fri Oc...\n",
       "97444  2021-10-15  Status(_api=None, _json={'created_at': 'Fri Oc...\n",
       "\n",
       "[97445 rows x 2 columns]"
      ]
     },
     "execution_count": 14,
     "metadata": {},
     "output_type": "execute_result"
    }
   ],
   "source": [
    "data"
   ]
  },
  {
   "cell_type": "code",
   "execution_count": 18,
   "metadata": {},
   "outputs": [],
   "source": [
    "data.to_csv(\"Tweets.csv\")"
   ]
  },
  {
   "cell_type": "code",
   "execution_count": null,
   "metadata": {},
   "outputs": [],
   "source": []
  },
  {
   "cell_type": "raw",
   "metadata": {},
   "source": [
    "def get_tweets(query, count = 300):\n",
    "\n",
    "    # empty list to store parsed tweets\n",
    "    tweets = []\n",
    "    target = io.open(\"mytweets.csv\", 'w', encoding='utf-8')\n",
    "    # call twitter api to fetch tweets\n",
    "    q=str(query)\n",
    "    #a=str(q+\" crypto\")\n",
    "    #b=str(q+\" cryptocurrency\")\n",
    "    fetched_tweets = api.search_tweets(q, count = count)\n",
    "    # parsing tweets one by one\n",
    "    print(len(fetched_tweets))\n",
    "\n",
    "    for tweet in fetched_tweets:\n",
    "\n",
    "        # empty dictionary to store required params of a tweet\n",
    "        parsed_tweet = {}\n",
    "        # saving text of tweet\n",
    "        parsed_tweet['text'] = tweet.text\n",
    "        if \"http\" not in tweet.text:\n",
    "            line = re.sub(\"[^A-Za-z]\", \" \", tweet.text)\n",
    "            \n",
    "            target.write(line+\"\\n\")\n",
    "    return tweets"
   ]
  },
  {
   "cell_type": "raw",
   "metadata": {},
   "source": [
    "# creating object of TwitterClient Class calling function to get tweets\n",
    "tweets = get_tweets(query =\"Bitcoin\", count = 20000)"
   ]
  },
  {
   "cell_type": "code",
   "execution_count": null,
   "metadata": {},
   "outputs": [],
   "source": []
  },
  {
   "cell_type": "code",
   "execution_count": 20,
   "metadata": {},
   "outputs": [],
   "source": [
    "cdata=pd.DataFrame(columns=['Date','Tweets'])"
   ]
  },
  {
   "cell_type": "code",
   "execution_count": 21,
   "metadata": {},
   "outputs": [],
   "source": [
    "total=100\n",
    "index=0\n",
    "for index,row in data.iterrows():\n",
    "    stre=row[\"Tweets\"]\n",
    "    my_new_string = re.sub('[^ a-zA-Z0-9]', '', str(stre))\n",
    "    temp_df = pd.DataFrame([[data[\"Date\"].iloc[index], \n",
    "                            my_new_string]], columns = ['Date','Tweets'])\n",
    "    cdata = pd.concat([cdata, temp_df], axis = 0).reset_index(drop = True)"
   ]
  },
  {
   "cell_type": "code",
   "execution_count": null,
   "metadata": {},
   "outputs": [],
   "source": [
    "cdata"
   ]
  },
  {
   "cell_type": "code",
   "execution_count": null,
   "metadata": {},
   "outputs": [],
   "source": [
    "ccdata=pd.DataFrame(columns=['Date','Tweets'])"
   ]
  },
  {
   "cell_type": "code",
   "execution_count": null,
   "metadata": {},
   "outputs": [],
   "source": [
    "indx=0\n",
    "get_tweet=\"\"\n",
    "for i in range(0,len(cdata)-1):\n",
    "    get_date=cdata.Date.iloc[i]\n",
    "    next_date=cdata.Date.iloc[i+1]\n",
    "    if(str(get_date)==str(next_date)):\n",
    "        get_tweet=get_tweet+cdata.Tweets.iloc[i]+\" \"\n",
    "    if(str(get_date)!=str(next_date)):\n",
    "        temp_df = pd.DataFrame([[get_date, \n",
    "                                get_tweet]], columns = ['Date','Tweets'])\n",
    "        ccdata = pd.concat([ccdata, temp_df], axis = 0).reset_index(drop = True)\n",
    "        get_tweet=\" \""
   ]
  },
  {
   "cell_type": "code",
   "execution_count": null,
   "metadata": {},
   "outputs": [],
   "source": [
    "ccdata"
   ]
  },
  {
   "cell_type": "code",
   "execution_count": null,
   "metadata": {},
   "outputs": [],
   "source": []
  },
  {
   "cell_type": "code",
   "execution_count": null,
   "metadata": {},
   "outputs": [],
   "source": [
    "API ='GCY7R1AD4ARGUISO'"
   ]
  },
  {
   "cell_type": "code",
   "execution_count": null,
   "metadata": {},
   "outputs": [],
   "source": [
    "import alpha_vantage\n",
    "from alpha_vantage.cryptocurrencies import CryptoCurrencies"
   ]
  },
  {
   "cell_type": "code",
   "execution_count": null,
   "metadata": {},
   "outputs": [],
   "source": [
    "crypto = CryptoCurrencies(key=API, output_format='pandas')"
   ]
  },
  {
   "cell_type": "code",
   "execution_count": null,
   "metadata": {},
   "outputs": [],
   "source": [
    "crypto_data,meta=ts.get_digital_currency_daily(\"BTC\",\"USD\")"
   ]
  },
  {
   "cell_type": "code",
   "execution_count": null,
   "metadata": {},
   "outputs": [],
   "source": [
    "crypto_data['date_time'] = crypto_data.index\n",
    "crypto_data=crypto_data.iloc[::-1]\n",
    "crypto_df = pd.DataFrame(crypto_data[[\"1a. open (USD)\", \"2a. high (USD)\", \"3a. low (USD)\", \"4a. close (USD)\", \"5. volume\"]])"
   ]
  },
  {
   "cell_type": "code",
   "execution_count": null,
   "metadata": {},
   "outputs": [],
   "source": [
    "df.rename({'1a. open (USD)': 'Open', '2a. high (USD)': 'High','3a. low (USD)': 'Low', '4a. close (USD)': 'Close', '5. volume' : 'Volume'}, axis=1, inplace=True)"
   ]
  },
  {
   "cell_type": "code",
   "execution_count": null,
   "metadata": {},
   "outputs": [],
   "source": [
    "ccdata['Prices']=\"\""
   ]
  },
  {
   "cell_type": "code",
   "execution_count": null,
   "metadata": {},
   "outputs": [],
   "source": [
    "indx=0\n",
    "for i in range (0,len(ccdata)):\n",
    "    for j in range (0,len(read_stock_p)):\n",
    "        get_tweet_date=ccdata.Date.iloc[i]\n",
    "        get_stock_date=crypto_df.Date.iloc[j]\n",
    "        if(str(get_stock_date)==str(get_tweet_date)):\n",
    "            #print(get_stock_date,\" \",get_tweet_date)\n",
    "            # ccdata.set_value(i,'Prices',int(read_stock_p.Close[j]))\n",
    "            ccdata['Prices'].iloc[i] = int(crypto_df.Close[j])"
   ]
  },
  {
   "cell_type": "code",
   "execution_count": null,
   "metadata": {},
   "outputs": [],
   "source": [
    "mean=0\n",
    "summ=0\n",
    "count=0\n",
    "for i in range(0,len(ccdata)):\n",
    "    if(ccdata.Prices.iloc[i]!=\"\"):\n",
    "        summ=summ+int(ccdata.Prices.iloc[i])\n",
    "        count=count+1\n",
    "mean=summ/count\n",
    "for i in range(0,len(ccdata)):\n",
    "    if(ccdata.Prices.iloc[i]==\"\"):\n",
    "        ccdata.Prices.iloc[i]=int(mean)"
   ]
  },
  {
   "cell_type": "code",
   "execution_count": null,
   "metadata": {},
   "outputs": [],
   "source": [
    "ccdata['Prices'] = ccdata['Prices'].apply(np.int64)"
   ]
  },
  {
   "cell_type": "code",
   "execution_count": null,
   "metadata": {},
   "outputs": [],
   "source": [
    "ccdata"
   ]
  },
  {
   "cell_type": "code",
   "execution_count": null,
   "metadata": {},
   "outputs": [],
   "source": [
    "ccdata[\"Comp\"] = ''\n",
    "ccdata[\"Negative\"] = ''\n",
    "ccdata[\"Neutral\"] = ''\n",
    "ccdata[\"Positive\"] = ''"
   ]
  },
  {
   "cell_type": "code",
   "execution_count": null,
   "metadata": {},
   "outputs": [],
   "source": [
    "import nltk"
   ]
  },
  {
   "cell_type": "code",
   "execution_count": null,
   "metadata": {},
   "outputs": [],
   "source": [
    "from nltk.classify import NaiveBayesClassifier\n",
    "from nltk.corpus import subjectivity\n",
    "from nltk.sentiment import SentimentAnalyzer\n",
    "from nltk.sentiment.util import *"
   ]
  },
  {
   "cell_type": "code",
   "execution_count": null,
   "metadata": {},
   "outputs": [],
   "source": [
    "nltk.download('vader_lexicon')"
   ]
  },
  {
   "cell_type": "code",
   "execution_count": null,
   "metadata": {},
   "outputs": [],
   "source": [
    "from nltk.sentiment.vader import SentimentIntensityAnalyzer\n",
    "from nltk.sentiment.vader import SentimentIntensityAnalyzer\n",
    "import unicodedata"
   ]
  },
  {
   "cell_type": "code",
   "execution_count": null,
   "metadata": {},
   "outputs": [],
   "source": [
    "sentiment_i_a = SentimentIntensityAnalyzer()\n",
    "for indexx, row in ccdata.T.iteritems():\n",
    "    try:\n",
    "        sentence_i = unicodedata.normalize('NFKD', ccdata.loc[indexx, 'Tweets'])\n",
    "        sentence_sentiment = sentiment_i_a.polarity_scores(sentence_i)\n",
    "        ccdata['Comp'].iloc[indexx] = sentence_sentiment['compound']\n",
    "        ccdata['Negative'].iloc[indexx] = sentence_sentiment['neg']\n",
    "        ccdata['Neutral'].iloc[indexx] = sentence_sentiment['neu']\n",
    "        ccdata['Positive'].iloc[indexx] = sentence_sentiment['compound']\n",
    "        \n",
    "        # ccdata.set_value(indexx, 'Comp', sentence_sentiment['pos'])\n",
    "        # ccdata.set_value(indexx, 'Negative', sentence_sentiment['neg'])\n",
    "        # ccdata.set_value(indexx, 'Neutral', sentence_sentiment['neu'])\n",
    "        # ccdata.set_value(indexx, 'Positive', sentence_sentiment['pos'])\n",
    "        \n",
    "    except TypeError:\n",
    "        print (stocks_dataf.loc[indexx, 'Tweets'])\n",
    "        print (indexx)"
   ]
  },
  {
   "cell_type": "code",
   "execution_count": null,
   "metadata": {},
   "outputs": [],
   "source": [
    "ccdata"
   ]
  }
 ],
 "metadata": {
  "kernelspec": {
   "display_name": "Python 3",
   "language": "python",
   "name": "python3"
  },
  "language_info": {
   "codemirror_mode": {
    "name": "ipython",
    "version": 3
   },
   "file_extension": ".py",
   "mimetype": "text/x-python",
   "name": "python",
   "nbconvert_exporter": "python",
   "pygments_lexer": "ipython3",
   "version": "3.8.5"
  }
 },
 "nbformat": 4,
 "nbformat_minor": 4
}
