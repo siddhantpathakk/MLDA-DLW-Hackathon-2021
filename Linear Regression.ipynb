{
 "cells": [
  {
   "cell_type": "code",
   "execution_count": 1,
   "metadata": {},
   "outputs": [],
   "source": [
    "from sklearn.linear_model import LinearRegression\n",
    "from sklearn.model_selection import train_test_split\n",
    "from sklearn.metrics import mean_squared_error"
   ]
  },
  {
   "cell_type": "code",
   "execution_count": 2,
   "metadata": {},
   "outputs": [],
   "source": [
    "import pandas as pd"
   ]
  },
  {
   "cell_type": "code",
   "execution_count": 3,
   "metadata": {},
   "outputs": [],
   "source": [
    "from sklearn.metrics import mean_squared_error\n",
    "from sklearn.metrics import mean_absolute_error"
   ]
  },
  {
   "cell_type": "code",
   "execution_count": 3,
   "metadata": {},
   "outputs": [],
   "source": [
    "df=pd.read_csv(\"Clean_DF.csv\")"
   ]
  },
  {
   "cell_type": "code",
   "execution_count": 5,
   "metadata": {},
   "outputs": [],
   "source": [
    "df.drop(columns=[\"Unnamed: 0\"],inplace=True)"
   ]
  },
  {
   "cell_type": "code",
   "execution_count": 6,
   "metadata": {},
   "outputs": [
    {
     "data": {
      "text/html": [
       "<div>\n",
       "<style scoped>\n",
       "    .dataframe tbody tr th:only-of-type {\n",
       "        vertical-align: middle;\n",
       "    }\n",
       "\n",
       "    .dataframe tbody tr th {\n",
       "        vertical-align: top;\n",
       "    }\n",
       "\n",
       "    .dataframe thead th {\n",
       "        text-align: right;\n",
       "    }\n",
       "</style>\n",
       "<table border=\"1\" class=\"dataframe\">\n",
       "  <thead>\n",
       "    <tr style=\"text-align: right;\">\n",
       "      <th></th>\n",
       "      <th>Open</th>\n",
       "      <th>High</th>\n",
       "      <th>Low</th>\n",
       "      <th>Close</th>\n",
       "      <th>Compound_Score</th>\n",
       "      <th>Total Volume of Tweets</th>\n",
       "      <th>Weighted_Price</th>\n",
       "    </tr>\n",
       "  </thead>\n",
       "  <tbody>\n",
       "    <tr>\n",
       "      <th>0</th>\n",
       "      <td>2763.23</td>\n",
       "      <td>2763.24</td>\n",
       "      <td>2761.41</td>\n",
       "      <td>2762.00</td>\n",
       "      <td>0.082893</td>\n",
       "      <td>1027.0</td>\n",
       "      <td>2761.710702</td>\n",
       "    </tr>\n",
       "    <tr>\n",
       "      <th>1</th>\n",
       "      <td>2768.07</td>\n",
       "      <td>2772.97</td>\n",
       "      <td>2768.07</td>\n",
       "      <td>2768.07</td>\n",
       "      <td>0.053160</td>\n",
       "      <td>778.0</td>\n",
       "      <td>2772.411512</td>\n",
       "    </tr>\n",
       "    <tr>\n",
       "      <th>2</th>\n",
       "      <td>2779.77</td>\n",
       "      <td>2779.78</td>\n",
       "      <td>2779.77</td>\n",
       "      <td>2779.78</td>\n",
       "      <td>0.124251</td>\n",
       "      <td>836.0</td>\n",
       "      <td>2779.774992</td>\n",
       "    </tr>\n",
       "    <tr>\n",
       "      <th>3</th>\n",
       "      <td>2790.55</td>\n",
       "      <td>2793.25</td>\n",
       "      <td>2790.55</td>\n",
       "      <td>2790.55</td>\n",
       "      <td>-0.021037</td>\n",
       "      <td>984.0</td>\n",
       "      <td>2792.693685</td>\n",
       "    </tr>\n",
       "    <tr>\n",
       "      <th>4</th>\n",
       "      <td>2837.44</td>\n",
       "      <td>2837.44</td>\n",
       "      <td>2831.40</td>\n",
       "      <td>2831.40</td>\n",
       "      <td>0.055437</td>\n",
       "      <td>751.0</td>\n",
       "      <td>2832.734750</td>\n",
       "    </tr>\n",
       "    <tr>\n",
       "      <th>...</th>\n",
       "      <td>...</td>\n",
       "      <td>...</td>\n",
       "      <td>...</td>\n",
       "      <td>...</td>\n",
       "      <td>...</td>\n",
       "      <td>...</td>\n",
       "      <td>...</td>\n",
       "    </tr>\n",
       "    <tr>\n",
       "      <th>12115</th>\n",
       "      <td>3536.47</td>\n",
       "      <td>3538.27</td>\n",
       "      <td>3536.47</td>\n",
       "      <td>3538.27</td>\n",
       "      <td>0.048459</td>\n",
       "      <td>1060.0</td>\n",
       "      <td>3537.406211</td>\n",
       "    </tr>\n",
       "    <tr>\n",
       "      <th>12116</th>\n",
       "      <td>3548.22</td>\n",
       "      <td>3548.22</td>\n",
       "      <td>3543.23</td>\n",
       "      <td>3545.46</td>\n",
       "      <td>0.059675</td>\n",
       "      <td>978.0</td>\n",
       "      <td>3546.670863</td>\n",
       "    </tr>\n",
       "    <tr>\n",
       "      <th>12117</th>\n",
       "      <td>3545.73</td>\n",
       "      <td>3545.74</td>\n",
       "      <td>3545.73</td>\n",
       "      <td>3545.74</td>\n",
       "      <td>0.111140</td>\n",
       "      <td>917.0</td>\n",
       "      <td>3545.736842</td>\n",
       "    </tr>\n",
       "    <tr>\n",
       "      <th>12118</th>\n",
       "      <td>3543.39</td>\n",
       "      <td>3543.39</td>\n",
       "      <td>3543.39</td>\n",
       "      <td>3543.39</td>\n",
       "      <td>0.057693</td>\n",
       "      <td>929.0</td>\n",
       "      <td>3543.390000</td>\n",
       "    </tr>\n",
       "    <tr>\n",
       "      <th>12119</th>\n",
       "      <td>3535.07</td>\n",
       "      <td>3538.00</td>\n",
       "      <td>3533.89</td>\n",
       "      <td>3534.01</td>\n",
       "      <td>0.114312</td>\n",
       "      <td>899.0</td>\n",
       "      <td>3536.774719</td>\n",
       "    </tr>\n",
       "  </tbody>\n",
       "</table>\n",
       "<p>12120 rows × 7 columns</p>\n",
       "</div>"
      ],
      "text/plain": [
       "          Open     High      Low    Close  Compound_Score  \\\n",
       "0      2763.23  2763.24  2761.41  2762.00        0.082893   \n",
       "1      2768.07  2772.97  2768.07  2768.07        0.053160   \n",
       "2      2779.77  2779.78  2779.77  2779.78        0.124251   \n",
       "3      2790.55  2793.25  2790.55  2790.55       -0.021037   \n",
       "4      2837.44  2837.44  2831.40  2831.40        0.055437   \n",
       "...        ...      ...      ...      ...             ...   \n",
       "12115  3536.47  3538.27  3536.47  3538.27        0.048459   \n",
       "12116  3548.22  3548.22  3543.23  3545.46        0.059675   \n",
       "12117  3545.73  3545.74  3545.73  3545.74        0.111140   \n",
       "12118  3543.39  3543.39  3543.39  3543.39        0.057693   \n",
       "12119  3535.07  3538.00  3533.89  3534.01        0.114312   \n",
       "\n",
       "       Total Volume of Tweets  Weighted_Price  \n",
       "0                      1027.0     2761.710702  \n",
       "1                       778.0     2772.411512  \n",
       "2                       836.0     2779.774992  \n",
       "3                       984.0     2792.693685  \n",
       "4                       751.0     2832.734750  \n",
       "...                       ...             ...  \n",
       "12115                  1060.0     3537.406211  \n",
       "12116                   978.0     3546.670863  \n",
       "12117                   917.0     3545.736842  \n",
       "12118                   929.0     3543.390000  \n",
       "12119                   899.0     3536.774719  \n",
       "\n",
       "[12120 rows x 7 columns]"
      ]
     },
     "execution_count": 6,
     "metadata": {},
     "output_type": "execute_result"
    }
   ],
   "source": [
    "df.head()"
   ]
  },
  {
   "cell_type": "code",
   "execution_count": 7,
   "metadata": {},
   "outputs": [
    {
     "data": {
      "text/plain": [
       "LinearRegression()"
      ]
     },
     "execution_count": 7,
     "metadata": {},
     "output_type": "execute_result"
    }
   ],
   "source": [
    "predictors = [\"Open\", \"High\", \"Low\",\"Close\",\"Total Volume of Tweets\",\"Compound_Score\"]\n",
    "\n",
    "y = pd.DataFrame(df[\"Weighted_Price\"])\n",
    "X = pd.DataFrame(df[predictors])\n",
    "\n",
    "X_train, X_test, y_train, y_test = train_test_split(X, y, test_size = 0.25)"
   ]
  },
  {
   "cell_type": "code",
   "execution_count": null,
   "metadata": {},
   "outputs": [],
   "source": [
    "linreg = LinearRegression()         \n",
    "linreg.fit(X_train, y_train)  "
   ]
  },
  {
   "cell_type": "code",
   "execution_count": 9,
   "metadata": {},
   "outputs": [],
   "source": [
    "y_train_pred = linreg.predict(X_train)\n",
    "y_test_pred = linreg.predict(X_test)"
   ]
  },
  {
   "cell_type": "code",
   "execution_count": 17,
   "metadata": {},
   "outputs": [
    {
     "data": {
      "text/plain": [
       "4.796149894670889"
      ]
     },
     "execution_count": 17,
     "metadata": {},
     "output_type": "execute_result"
    }
   ],
   "source": [
    "errors = mean_squared_error(y_test, y_test_pred, squared = False)\n",
    "print(\"RMSE = \"+errors)"
   ]
  },
  {
   "cell_type": "code",
   "execution_count": 16,
   "metadata": {},
   "outputs": [
    {
     "data": {
      "text/plain": [
       "2.6250047699145336"
      ]
     },
     "execution_count": 16,
     "metadata": {},
     "output_type": "execute_result"
    }
   ],
   "source": [
    "errors2 = mean_absolute_error(y_test, y_test_pred)\n",
    "print(\"MAE = \"+errors2)"
   ]
  }
 ],
 "metadata": {
  "kernelspec": {
   "display_name": "Python 3",
   "language": "python",
   "name": "python3"
  },
  "language_info": {
   "codemirror_mode": {
    "name": "ipython",
    "version": 3
   },
   "file_extension": ".py",
   "mimetype": "text/x-python",
   "name": "python",
   "nbconvert_exporter": "python",
   "pygments_lexer": "ipython3",
   "version": "3.8.5"
  }
 },
 "nbformat": 4,
 "nbformat_minor": 4
}
