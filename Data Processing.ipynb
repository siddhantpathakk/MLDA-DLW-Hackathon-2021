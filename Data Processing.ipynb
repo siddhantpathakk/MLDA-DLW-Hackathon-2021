{
 "cells": [
  {
   "cell_type": "code",
   "execution_count": 1,
   "metadata": {},
   "outputs": [],
   "source": [
    "import pandas as pd\n",
    "import numpy as np\n",
    "import matplotlib.pyplot as plt"
   ]
  },
  {
   "cell_type": "code",
   "execution_count": 2,
   "metadata": {},
   "outputs": [],
   "source": [
    "import csv"
   ]
  },
  {
   "cell_type": "code",
   "execution_count": 3,
   "metadata": {},
   "outputs": [],
   "source": [
    "from datetime import datetime"
   ]
  },
  {
   "cell_type": "code",
   "execution_count": 4,
   "metadata": {},
   "outputs": [],
   "source": [
    "df = pd.read_csv('df_Final.csv', sep = ';')[['Date','Close', 'Compound_Score', 'Total Volume of Tweets', 'Count_Negatives',\n",
    "       'Count_Positives', 'Count_Neutrals', 'Sent_Negatives', 'Sent_Positives',\n",
    "       'Count_News', 'Count_Bots']]"
   ]
  },
  {
   "cell_type": "code",
   "execution_count": 5,
   "metadata": {},
   "outputs": [],
   "source": [
    "for i in df.Date:\n",
    "    df[\"TimeStamp2\"]=int(datetime.strptime(i, '%Y-%m-%d %H:%M:%S').timestamp())"
   ]
  },
  {
   "cell_type": "code",
   "execution_count": 6,
   "metadata": {},
   "outputs": [
    {
     "data": {
      "text/plain": [
       "(12936, 12)"
      ]
     },
     "execution_count": 6,
     "metadata": {},
     "output_type": "execute_result"
    }
   ],
   "source": [
    "df.shape"
   ]
  },
  {
   "cell_type": "code",
   "execution_count": 7,
   "metadata": {},
   "outputs": [
    {
     "data": {
      "text/html": [
       "<div>\n",
       "<style scoped>\n",
       "    .dataframe tbody tr th:only-of-type {\n",
       "        vertical-align: middle;\n",
       "    }\n",
       "\n",
       "    .dataframe tbody tr th {\n",
       "        vertical-align: top;\n",
       "    }\n",
       "\n",
       "    .dataframe thead th {\n",
       "        text-align: right;\n",
       "    }\n",
       "</style>\n",
       "<table border=\"1\" class=\"dataframe\">\n",
       "  <thead>\n",
       "    <tr style=\"text-align: right;\">\n",
       "      <th></th>\n",
       "      <th>Date</th>\n",
       "      <th>Close</th>\n",
       "      <th>Compound_Score</th>\n",
       "      <th>Total Volume of Tweets</th>\n",
       "      <th>Count_Negatives</th>\n",
       "      <th>Count_Positives</th>\n",
       "      <th>Count_Neutrals</th>\n",
       "      <th>Sent_Negatives</th>\n",
       "      <th>Sent_Positives</th>\n",
       "      <th>Count_News</th>\n",
       "      <th>Count_Bots</th>\n",
       "      <th>TimeStamp2</th>\n",
       "    </tr>\n",
       "  </thead>\n",
       "  <tbody>\n",
       "    <tr>\n",
       "      <th>0</th>\n",
       "      <td>2017-08-01 00:00:00</td>\n",
       "      <td>2825.92</td>\n",
       "      <td>0.082893</td>\n",
       "      <td>1027.0</td>\n",
       "      <td>139.0</td>\n",
       "      <td>347.0</td>\n",
       "      <td>397.0</td>\n",
       "      <td>-0.516620</td>\n",
       "      <td>0.417882</td>\n",
       "      <td>695.0</td>\n",
       "      <td>144.0</td>\n",
       "      <td>1548082800</td>\n",
       "    </tr>\n",
       "    <tr>\n",
       "      <th>1</th>\n",
       "      <td>2017-08-01 01:00:00</td>\n",
       "      <td>2853.38</td>\n",
       "      <td>0.053160</td>\n",
       "      <td>778.0</td>\n",
       "      <td>111.0</td>\n",
       "      <td>193.0</td>\n",
       "      <td>320.0</td>\n",
       "      <td>-0.423402</td>\n",
       "      <td>0.415385</td>\n",
       "      <td>493.0</td>\n",
       "      <td>154.0</td>\n",
       "      <td>1548082800</td>\n",
       "    </tr>\n",
       "    <tr>\n",
       "      <th>2</th>\n",
       "      <td>2017-08-01 02:00:00</td>\n",
       "      <td>2841.60</td>\n",
       "      <td>0.124251</td>\n",
       "      <td>836.0</td>\n",
       "      <td>89.0</td>\n",
       "      <td>273.0</td>\n",
       "      <td>264.0</td>\n",
       "      <td>-0.440938</td>\n",
       "      <td>0.428661</td>\n",
       "      <td>510.0</td>\n",
       "      <td>210.0</td>\n",
       "      <td>1548082800</td>\n",
       "    </tr>\n",
       "    <tr>\n",
       "      <th>3</th>\n",
       "      <td>2017-08-01 03:00:00</td>\n",
       "      <td>2862.93</td>\n",
       "      <td>-0.021037</td>\n",
       "      <td>984.0</td>\n",
       "      <td>250.0</td>\n",
       "      <td>236.0</td>\n",
       "      <td>314.0</td>\n",
       "      <td>-0.441173</td>\n",
       "      <td>0.396034</td>\n",
       "      <td>683.0</td>\n",
       "      <td>184.0</td>\n",
       "      <td>1548082800</td>\n",
       "    </tr>\n",
       "    <tr>\n",
       "      <th>4</th>\n",
       "      <td>2017-08-01 04:00:00</td>\n",
       "      <td>2874.99</td>\n",
       "      <td>0.055437</td>\n",
       "      <td>751.0</td>\n",
       "      <td>114.0</td>\n",
       "      <td>195.0</td>\n",
       "      <td>305.0</td>\n",
       "      <td>-0.414978</td>\n",
       "      <td>0.417159</td>\n",
       "      <td>517.0</td>\n",
       "      <td>137.0</td>\n",
       "      <td>1548082800</td>\n",
       "    </tr>\n",
       "  </tbody>\n",
       "</table>\n",
       "</div>"
      ],
      "text/plain": [
       "                  Date    Close  Compound_Score  Total Volume of Tweets  \\\n",
       "0  2017-08-01 00:00:00  2825.92        0.082893                  1027.0   \n",
       "1  2017-08-01 01:00:00  2853.38        0.053160                   778.0   \n",
       "2  2017-08-01 02:00:00  2841.60        0.124251                   836.0   \n",
       "3  2017-08-01 03:00:00  2862.93       -0.021037                   984.0   \n",
       "4  2017-08-01 04:00:00  2874.99        0.055437                   751.0   \n",
       "\n",
       "   Count_Negatives  Count_Positives  Count_Neutrals  Sent_Negatives  \\\n",
       "0            139.0            347.0           397.0       -0.516620   \n",
       "1            111.0            193.0           320.0       -0.423402   \n",
       "2             89.0            273.0           264.0       -0.440938   \n",
       "3            250.0            236.0           314.0       -0.441173   \n",
       "4            114.0            195.0           305.0       -0.414978   \n",
       "\n",
       "   Sent_Positives  Count_News  Count_Bots  TimeStamp2  \n",
       "0        0.417882       695.0       144.0  1548082800  \n",
       "1        0.415385       493.0       154.0  1548082800  \n",
       "2        0.428661       510.0       210.0  1548082800  \n",
       "3        0.396034       683.0       184.0  1548082800  \n",
       "4        0.417159       517.0       137.0  1548082800  "
      ]
     },
     "execution_count": 7,
     "metadata": {},
     "output_type": "execute_result"
    }
   ],
   "source": [
    "df.head()"
   ]
  },
  {
   "cell_type": "code",
   "execution_count": 9,
   "metadata": {},
   "outputs": [],
   "source": [
    "btc = pd.read_csv(\"historical_data_btc.csv\")"
   ]
  },
  {
   "cell_type": "code",
   "execution_count": 10,
   "metadata": {},
   "outputs": [
    {
     "data": {
      "text/html": [
       "<div>\n",
       "<style scoped>\n",
       "    .dataframe tbody tr th:only-of-type {\n",
       "        vertical-align: middle;\n",
       "    }\n",
       "\n",
       "    .dataframe tbody tr th {\n",
       "        vertical-align: top;\n",
       "    }\n",
       "\n",
       "    .dataframe thead th {\n",
       "        text-align: right;\n",
       "    }\n",
       "</style>\n",
       "<table border=\"1\" class=\"dataframe\">\n",
       "  <thead>\n",
       "    <tr style=\"text-align: right;\">\n",
       "      <th></th>\n",
       "      <th>Timestamp</th>\n",
       "      <th>Open</th>\n",
       "      <th>High</th>\n",
       "      <th>Low</th>\n",
       "      <th>Close</th>\n",
       "      <th>Volume_(BTC)</th>\n",
       "      <th>Volume_(Currency)</th>\n",
       "      <th>Weighted_Price</th>\n",
       "    </tr>\n",
       "  </thead>\n",
       "  <tbody>\n",
       "    <tr>\n",
       "      <th>0</th>\n",
       "      <td>1325317920</td>\n",
       "      <td>4.39</td>\n",
       "      <td>4.39</td>\n",
       "      <td>4.39</td>\n",
       "      <td>4.39</td>\n",
       "      <td>0.455581</td>\n",
       "      <td>2.0</td>\n",
       "      <td>4.39</td>\n",
       "    </tr>\n",
       "    <tr>\n",
       "      <th>1</th>\n",
       "      <td>1325317980</td>\n",
       "      <td>NaN</td>\n",
       "      <td>NaN</td>\n",
       "      <td>NaN</td>\n",
       "      <td>NaN</td>\n",
       "      <td>NaN</td>\n",
       "      <td>NaN</td>\n",
       "      <td>NaN</td>\n",
       "    </tr>\n",
       "    <tr>\n",
       "      <th>2</th>\n",
       "      <td>1325318040</td>\n",
       "      <td>NaN</td>\n",
       "      <td>NaN</td>\n",
       "      <td>NaN</td>\n",
       "      <td>NaN</td>\n",
       "      <td>NaN</td>\n",
       "      <td>NaN</td>\n",
       "      <td>NaN</td>\n",
       "    </tr>\n",
       "    <tr>\n",
       "      <th>3</th>\n",
       "      <td>1325318100</td>\n",
       "      <td>NaN</td>\n",
       "      <td>NaN</td>\n",
       "      <td>NaN</td>\n",
       "      <td>NaN</td>\n",
       "      <td>NaN</td>\n",
       "      <td>NaN</td>\n",
       "      <td>NaN</td>\n",
       "    </tr>\n",
       "    <tr>\n",
       "      <th>4</th>\n",
       "      <td>1325318160</td>\n",
       "      <td>NaN</td>\n",
       "      <td>NaN</td>\n",
       "      <td>NaN</td>\n",
       "      <td>NaN</td>\n",
       "      <td>NaN</td>\n",
       "      <td>NaN</td>\n",
       "      <td>NaN</td>\n",
       "    </tr>\n",
       "  </tbody>\n",
       "</table>\n",
       "</div>"
      ],
      "text/plain": [
       "    Timestamp  Open  High   Low  Close  Volume_(BTC)  Volume_(Currency)  \\\n",
       "0  1325317920  4.39  4.39  4.39   4.39      0.455581                2.0   \n",
       "1  1325317980   NaN   NaN   NaN    NaN           NaN                NaN   \n",
       "2  1325318040   NaN   NaN   NaN    NaN           NaN                NaN   \n",
       "3  1325318100   NaN   NaN   NaN    NaN           NaN                NaN   \n",
       "4  1325318160   NaN   NaN   NaN    NaN           NaN                NaN   \n",
       "\n",
       "   Weighted_Price  \n",
       "0            4.39  \n",
       "1             NaN  \n",
       "2             NaN  \n",
       "3             NaN  \n",
       "4             NaN  "
      ]
     },
     "execution_count": 10,
     "metadata": {},
     "output_type": "execute_result"
    }
   ],
   "source": [
    "btc.head()"
   ]
  },
  {
   "cell_type": "code",
   "execution_count": 11,
   "metadata": {},
   "outputs": [],
   "source": [
    "indexNames1 = btc[ (btc['Timestamp'] < 1501516800) | (btc['Timestamp'] > 1548082800) ].index\n",
    "btc.drop(indexNames1 , inplace=True)"
   ]
  },
  {
   "cell_type": "code",
   "execution_count": 12,
   "metadata": {},
   "outputs": [],
   "source": [
    "timer = [1501516800]\n",
    "i=1501516800;\n",
    "\n",
    "while(i<1548082800):\n",
    "    i+=3600\n",
    "    timer.append(i)"
   ]
  },
  {
   "cell_type": "code",
   "execution_count": 13,
   "metadata": {},
   "outputs": [],
   "source": [
    "new=btc[btc['Timestamp'].isin(timer)]"
   ]
  },
  {
   "cell_type": "code",
   "execution_count": 14,
   "metadata": {},
   "outputs": [
    {
     "data": {
      "text/plain": [
       "(12936, 8)"
      ]
     },
     "execution_count": 14,
     "metadata": {},
     "output_type": "execute_result"
    }
   ],
   "source": [
    "new.shape"
   ]
  },
  {
   "cell_type": "code",
   "execution_count": 15,
   "metadata": {},
   "outputs": [
    {
     "data": {
      "text/plain": [
       "(12936, 12)"
      ]
     },
     "execution_count": 15,
     "metadata": {},
     "output_type": "execute_result"
    }
   ],
   "source": [
    "df.shape"
   ]
  },
  {
   "cell_type": "code",
   "execution_count": 16,
   "metadata": {},
   "outputs": [],
   "source": [
    "clean_df = new.copy().reset_index()"
   ]
  },
  {
   "cell_type": "code",
   "execution_count": 17,
   "metadata": {},
   "outputs": [],
   "source": [
    "clean_df.drop(columns=[\"index\",\"Volume_(BTC)\",\"Volume_(Currency)\"], inplace=True)"
   ]
  },
  {
   "cell_type": "code",
   "execution_count": 18,
   "metadata": {},
   "outputs": [],
   "source": [
    "y = pd.DataFrame(clean_df['Weighted_Price'])  # Response"
   ]
  },
  {
   "cell_type": "code",
   "execution_count": 19,
   "metadata": {},
   "outputs": [],
   "source": [
    "ohlc_predictors= [\"Open\", \"High\", \"Low\",\"Close\"]\n",
    "d1 = clean_df[ohlc_predictors].reset_index()\n",
    "d1.drop(columns=[\"index\"],inplace=True)"
   ]
  },
  {
   "cell_type": "code",
   "execution_count": 20,
   "metadata": {},
   "outputs": [],
   "source": [
    "sent_predictors= ['Compound_Score', 'Total Volume of Tweets']\n",
    "d2 = df[sent_predictors].reset_index()\n",
    "d2.drop(columns=[\"index\"],inplace=True)"
   ]
  },
  {
   "cell_type": "code",
   "execution_count": 21,
   "metadata": {},
   "outputs": [],
   "source": [
    "clean = pd.concat([d1, d2, y], axis=1)"
   ]
  },
  {
   "cell_type": "code",
   "execution_count": 22,
   "metadata": {},
   "outputs": [],
   "source": [
    "clean.dropna(inplace=True)"
   ]
  },
  {
   "cell_type": "code",
   "execution_count": 21,
   "metadata": {
    "scrolled": true
   },
   "outputs": [
    {
     "data": {
      "text/html": [
       "<div>\n",
       "<style scoped>\n",
       "    .dataframe tbody tr th:only-of-type {\n",
       "        vertical-align: middle;\n",
       "    }\n",
       "\n",
       "    .dataframe tbody tr th {\n",
       "        vertical-align: top;\n",
       "    }\n",
       "\n",
       "    .dataframe thead th {\n",
       "        text-align: right;\n",
       "    }\n",
       "</style>\n",
       "<table border=\"1\" class=\"dataframe\">\n",
       "  <thead>\n",
       "    <tr style=\"text-align: right;\">\n",
       "      <th></th>\n",
       "      <th>Open</th>\n",
       "      <th>High</th>\n",
       "      <th>Low</th>\n",
       "      <th>Close</th>\n",
       "      <th>Compound_Score</th>\n",
       "      <th>Total Volume of Tweets</th>\n",
       "      <th>Weighted_Price</th>\n",
       "    </tr>\n",
       "  </thead>\n",
       "  <tbody>\n",
       "    <tr>\n",
       "      <th>0</th>\n",
       "      <td>2763.23</td>\n",
       "      <td>2763.24</td>\n",
       "      <td>2761.41</td>\n",
       "      <td>2762.00</td>\n",
       "      <td>0.082893</td>\n",
       "      <td>1027.0</td>\n",
       "      <td>2761.710702</td>\n",
       "    </tr>\n",
       "    <tr>\n",
       "      <th>1</th>\n",
       "      <td>2768.07</td>\n",
       "      <td>2772.97</td>\n",
       "      <td>2768.07</td>\n",
       "      <td>2768.07</td>\n",
       "      <td>0.053160</td>\n",
       "      <td>778.0</td>\n",
       "      <td>2772.411512</td>\n",
       "    </tr>\n",
       "    <tr>\n",
       "      <th>2</th>\n",
       "      <td>2779.77</td>\n",
       "      <td>2779.78</td>\n",
       "      <td>2779.77</td>\n",
       "      <td>2779.78</td>\n",
       "      <td>0.124251</td>\n",
       "      <td>836.0</td>\n",
       "      <td>2779.774992</td>\n",
       "    </tr>\n",
       "    <tr>\n",
       "      <th>3</th>\n",
       "      <td>2790.55</td>\n",
       "      <td>2793.25</td>\n",
       "      <td>2790.55</td>\n",
       "      <td>2790.55</td>\n",
       "      <td>-0.021037</td>\n",
       "      <td>984.0</td>\n",
       "      <td>2792.693685</td>\n",
       "    </tr>\n",
       "    <tr>\n",
       "      <th>4</th>\n",
       "      <td>2837.44</td>\n",
       "      <td>2837.44</td>\n",
       "      <td>2831.40</td>\n",
       "      <td>2831.40</td>\n",
       "      <td>0.055437</td>\n",
       "      <td>751.0</td>\n",
       "      <td>2832.734750</td>\n",
       "    </tr>\n",
       "  </tbody>\n",
       "</table>\n",
       "</div>"
      ],
      "text/plain": [
       "      Open     High      Low    Close  Compound_Score  Total Volume of Tweets  \\\n",
       "0  2763.23  2763.24  2761.41  2762.00        0.082893                  1027.0   \n",
       "1  2768.07  2772.97  2768.07  2768.07        0.053160                   778.0   \n",
       "2  2779.77  2779.78  2779.77  2779.78        0.124251                   836.0   \n",
       "3  2790.55  2793.25  2790.55  2790.55       -0.021037                   984.0   \n",
       "4  2837.44  2837.44  2831.40  2831.40        0.055437                   751.0   \n",
       "\n",
       "   Weighted_Price  \n",
       "0     2761.710702  \n",
       "1     2772.411512  \n",
       "2     2779.774992  \n",
       "3     2792.693685  \n",
       "4     2832.734750  "
      ]
     },
     "execution_count": 21,
     "metadata": {},
     "output_type": "execute_result"
    }
   ],
   "source": [
    "clean.head()"
   ]
  },
  {
   "cell_type": "code",
   "execution_count": null,
   "metadata": {},
   "outputs": [],
   "source": [
    "clean.to_csv(\"Clean_DF.csv\")"
   ]
  }
 ],
 "metadata": {
  "kernelspec": {
   "display_name": "Python 3",
   "language": "python",
   "name": "python3"
  },
  "language_info": {
   "codemirror_mode": {
    "name": "ipython",
    "version": 3
   },
   "file_extension": ".py",
   "mimetype": "text/x-python",
   "name": "python",
   "nbconvert_exporter": "python",
   "pygments_lexer": "ipython3",
   "version": "3.8.5"
  }
 },
 "nbformat": 4,
 "nbformat_minor": 4
}
