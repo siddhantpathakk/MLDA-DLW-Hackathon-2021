{
  "nbformat": 4,
  "nbformat_minor": 5,
  "metadata": {
    "kernelspec": {
      "display_name": "Python 3",
      "language": "python",
      "name": "python3"
    },
    "language_info": {
      "codemirror_mode": {
        "name": "ipython",
        "version": 3
      },
      "file_extension": ".py",
      "mimetype": "text/x-python",
      "name": "python",
      "nbconvert_exporter": "python",
      "pygments_lexer": "ipython3",
      "version": "3.8.5"
    },
    "colab": {
      "name": "Long Short Term Memory.ipynb",
      "provenance": []
    },
    "accelerator": "TPU"
  },
  "cells": [
    {
      "cell_type": "code",
      "metadata": {
        "id": "7Sny63IbJnSc"
      },
      "source": [
        "import pandas as pd\n",
        "import math\n",
        "import numpy as np\n",
        "from sklearn.linear_model import LinearRegression\n",
        "\n",
        "import matplotlib.pyplot as plt\n",
        "from matplotlib import style\n",
        "from sklearn import svm\n",
        "\n",
        "from sklearn import preprocessing\n",
        "from sklearn.model_selection import cross_val_score \n",
        "\n",
        "from sklearn.model_selection import train_test_split"
      ],
      "id": "7Sny63IbJnSc",
      "execution_count": 1,
      "outputs": []
    },
    {
      "cell_type": "code",
      "metadata": {
        "id": "2OacB_47JnSk"
      },
      "source": [
        "from keras.models import Sequential\n",
        "from keras.layers import Dense\n",
        "from keras.layers import LSTM\n",
        "from keras.layers import Dropout"
      ],
      "id": "2OacB_47JnSk",
      "execution_count": 2,
      "outputs": []
    },
    {
      "cell_type": "code",
      "metadata": {
        "id": "WcbO1TriJnSl"
      },
      "source": [
        "import math\n",
        "from keras.models import Sequential\n",
        "from keras.layers import Dense\n",
        "from keras.layers import LSTM, Flatten\n",
        "from sklearn.preprocessing import MinMaxScaler\n",
        "from sklearn.metrics import mean_squared_error\n",
        "from keras.layers import ConvLSTM2D\n",
        "from keras.callbacks import EarlyStopping\n",
        "import datetime\n",
        "from keras.preprocessing.sequence import TimeseriesGenerator"
      ],
      "id": "WcbO1TriJnSl",
      "execution_count": 3,
      "outputs": []
    },
    {
      "cell_type": "code",
      "metadata": {
        "id": "o0Qau_CVO6qr"
      },
      "source": [
        "from sklearn.metrics import mean_squared_error\n",
        "from sklearn.metrics import mean_absolute_error"
      ],
      "id": "o0Qau_CVO6qr",
      "execution_count": 4,
      "outputs": []
    },
    {
      "cell_type": "code",
      "metadata": {
        "id": "T3bOiyyyjhiG"
      },
      "source": [
        "from sklearn.preprocessing import MinMaxScaler"
      ],
      "id": "T3bOiyyyjhiG",
      "execution_count": 5,
      "outputs": []
    },
    {
      "cell_type": "code",
      "metadata": {
        "id": "lpdXwgMEJnSf"
      },
      "source": [
        "df = pd.read_csv('Clean_DF.csv',parse_dates = True, index_col=0)"
      ],
      "id": "lpdXwgMEJnSf",
      "execution_count": 7,
      "outputs": []
    },
    {
      "cell_type": "code",
      "metadata": {
        "id": "wISu5LCuJnSg"
      },
      "source": [
        "df"
      ],
      "id": "wISu5LCuJnSg",
      "execution_count": null,
      "outputs": []
    },
    {
      "cell_type": "code",
      "metadata": {
        "id": "lpx7Y9GzJnSh"
      },
      "source": [
        "train_size=int(len(df)*0.8)\n",
        "test_size=len(df)-train_size\n",
        "train,test = df[0:train_size],df[train_size:]"
      ],
      "id": "lpx7Y9GzJnSh",
      "execution_count": 9,
      "outputs": []
    },
    {
      "cell_type": "code",
      "metadata": {
        "id": "dm5uGl9AJnSi"
      },
      "source": [
        "training_set = train.iloc[:,0:1].values"
      ],
      "id": "dm5uGl9AJnSi",
      "execution_count": 10,
      "outputs": []
    },
    {
      "cell_type": "code",
      "metadata": {
        "id": "5pXlJuzuJnSj"
      },
      "source": [
        "sc = MinMaxScaler(feature_range = (0, 1))\n",
        "training_set_scaled = sc.fit_transform(training_set)"
      ],
      "id": "5pXlJuzuJnSj",
      "execution_count": 11,
      "outputs": []
    },
    {
      "cell_type": "code",
      "metadata": {
        "id": "zvamCDl7Q2eJ",
        "colab": {
          "base_uri": "https://localhost:8080/"
        },
        "outputId": "b0b888f2-822e-4da1-88eb-3d2c68724a5e"
      },
      "source": [
        "training_set_scaled"
      ],
      "id": "zvamCDl7Q2eJ",
      "execution_count": 12,
      "outputs": [
        {
          "output_type": "execute_result",
          "data": {
            "text/plain": [
              "array([[0.0058063 ],\n",
              "       [0.006093  ],\n",
              "       [0.00678606],\n",
              "       ...,\n",
              "       [0.24085176],\n",
              "       [0.24280359],\n",
              "       [0.24033878]])"
            ]
          },
          "metadata": {},
          "execution_count": 12
        }
      ]
    },
    {
      "cell_type": "code",
      "metadata": {
        "id": "acLIn76TJnSj"
      },
      "source": [
        "X_train = []\n",
        "y_train = []\n",
        "for i in range(60, 2035):\n",
        "    X_train.append(training_set_scaled[i-60:i, 0])\n",
        "    y_train.append(training_set_scaled[i, 0])\n",
        "X_train, y_train = np.array(X_train), np.array(y_train)\n",
        "\n",
        "X_train = np.reshape(X_train, (X_train.shape[0], X_train.shape[1], 1))"
      ],
      "id": "acLIn76TJnSj",
      "execution_count": 13,
      "outputs": []
    },
    {
      "cell_type": "code",
      "metadata": {
        "colab": {
          "base_uri": "https://localhost:8080/"
        },
        "id": "-uH1Ou2LUPfs",
        "outputId": "e8323875-47a6-4be2-b70a-9c10683a1ec7"
      },
      "source": [
        "len(X_train)"
      ],
      "id": "-uH1Ou2LUPfs",
      "execution_count": 14,
      "outputs": [
        {
          "output_type": "execute_result",
          "data": {
            "text/plain": [
              "1975"
            ]
          },
          "metadata": {},
          "execution_count": 14
        }
      ]
    },
    {
      "cell_type": "code",
      "metadata": {
        "id": "i8nCPNj9LaY2",
        "colab": {
          "base_uri": "https://localhost:8080/"
        },
        "outputId": "9816d6f7-2c48-4786-96ca-f4446ed870ae"
      },
      "source": [
        "regressor = Sequential()\n",
        "\n",
        "regressor.add(LSTM(units = 50, return_sequences = True, input_shape = (X_train.shape[1], 1)))\n",
        "regressor.add(Dropout(0.2))\n",
        "\n",
        "regressor.add(LSTM(units = 50, return_sequences = True))\n",
        "regressor.add(Dropout(0.2))\n",
        "\n",
        "regressor.add(LSTM(units = 50, return_sequences = True))\n",
        "regressor.add(Dropout(0.2))\n",
        "\n",
        "regressor.add(LSTM(units = 50))\n",
        "regressor.add(Dropout(0.2))\n",
        "\n",
        "regressor.add(Dense(units = 1))\n",
        "\n",
        "regressor.compile(optimizer = 'adam', loss = 'mean_squared_error')\n",
        "\n",
        "regressor.fit(X_train, y_train, epochs = 100, batch_size = 32)"
      ],
      "id": "i8nCPNj9LaY2",
      "execution_count": 15,
      "outputs": [
        {
          "output_type": "stream",
          "name": "stdout",
          "text": [
            "Epoch 1/100\n",
            "62/62 [==============================] - 15s 123ms/step - loss: 7.9275e-04\n",
            "Epoch 2/100\n",
            "62/62 [==============================] - 8s 125ms/step - loss: 2.0862e-04\n",
            "Epoch 3/100\n",
            "62/62 [==============================] - 8s 122ms/step - loss: 1.6893e-04\n",
            "Epoch 4/100\n",
            "62/62 [==============================] - 8s 125ms/step - loss: 1.4772e-04\n",
            "Epoch 5/100\n",
            "62/62 [==============================] - 8s 123ms/step - loss: 1.5362e-04\n",
            "Epoch 6/100\n",
            "62/62 [==============================] - 8s 124ms/step - loss: 1.5687e-04\n",
            "Epoch 7/100\n",
            "62/62 [==============================] - 8s 124ms/step - loss: 1.2673e-04\n",
            "Epoch 8/100\n",
            "62/62 [==============================] - 8s 123ms/step - loss: 1.4559e-04\n",
            "Epoch 9/100\n",
            "62/62 [==============================] - 8s 123ms/step - loss: 1.1859e-04\n",
            "Epoch 10/100\n",
            "62/62 [==============================] - 8s 124ms/step - loss: 9.8270e-05\n",
            "Epoch 11/100\n",
            "62/62 [==============================] - 8s 124ms/step - loss: 9.1826e-05\n",
            "Epoch 12/100\n",
            "62/62 [==============================] - 8s 128ms/step - loss: 1.0259e-04\n",
            "Epoch 13/100\n",
            "62/62 [==============================] - 8s 127ms/step - loss: 9.2780e-05\n",
            "Epoch 14/100\n",
            "62/62 [==============================] - 8s 130ms/step - loss: 9.4876e-05\n",
            "Epoch 15/100\n",
            "62/62 [==============================] - 8s 124ms/step - loss: 9.9584e-05\n",
            "Epoch 16/100\n",
            "62/62 [==============================] - 8s 123ms/step - loss: 8.4342e-05\n",
            "Epoch 17/100\n",
            "62/62 [==============================] - 8s 123ms/step - loss: 9.1034e-05\n",
            "Epoch 18/100\n",
            "62/62 [==============================] - 8s 124ms/step - loss: 8.1979e-05\n",
            "Epoch 19/100\n",
            "62/62 [==============================] - 8s 126ms/step - loss: 8.0494e-05\n",
            "Epoch 20/100\n",
            "62/62 [==============================] - 8s 123ms/step - loss: 7.3538e-05\n",
            "Epoch 21/100\n",
            "62/62 [==============================] - 8s 124ms/step - loss: 7.3426e-05\n",
            "Epoch 22/100\n",
            "62/62 [==============================] - 8s 126ms/step - loss: 7.6379e-05\n",
            "Epoch 23/100\n",
            "62/62 [==============================] - 8s 125ms/step - loss: 6.7171e-05\n",
            "Epoch 24/100\n",
            "62/62 [==============================] - 8s 123ms/step - loss: 6.7569e-05\n",
            "Epoch 25/100\n",
            "62/62 [==============================] - 8s 123ms/step - loss: 6.4523e-05\n",
            "Epoch 26/100\n",
            "62/62 [==============================] - 8s 122ms/step - loss: 7.4759e-05\n",
            "Epoch 27/100\n",
            "62/62 [==============================] - 8s 127ms/step - loss: 6.1393e-05\n",
            "Epoch 28/100\n",
            "62/62 [==============================] - 8s 122ms/step - loss: 6.3427e-05\n",
            "Epoch 29/100\n",
            "62/62 [==============================] - 8s 123ms/step - loss: 6.1813e-05\n",
            "Epoch 30/100\n",
            "62/62 [==============================] - 8s 122ms/step - loss: 5.8517e-05\n",
            "Epoch 31/100\n",
            "62/62 [==============================] - 8s 123ms/step - loss: 6.0314e-05\n",
            "Epoch 32/100\n",
            "62/62 [==============================] - 8s 122ms/step - loss: 6.4639e-05\n",
            "Epoch 33/100\n",
            "62/62 [==============================] - 8s 124ms/step - loss: 6.4520e-05\n",
            "Epoch 34/100\n",
            "62/62 [==============================] - 8s 122ms/step - loss: 5.7189e-05\n",
            "Epoch 35/100\n",
            "62/62 [==============================] - 8s 126ms/step - loss: 5.9091e-05\n",
            "Epoch 36/100\n",
            "62/62 [==============================] - 8s 125ms/step - loss: 5.4620e-05\n",
            "Epoch 37/100\n",
            "62/62 [==============================] - 8s 125ms/step - loss: 5.1913e-05\n",
            "Epoch 38/100\n",
            "62/62 [==============================] - 8s 123ms/step - loss: 5.0208e-05\n",
            "Epoch 39/100\n",
            "62/62 [==============================] - 8s 124ms/step - loss: 5.9592e-05\n",
            "Epoch 40/100\n",
            "62/62 [==============================] - 8s 124ms/step - loss: 5.2186e-05\n",
            "Epoch 41/100\n",
            "62/62 [==============================] - 8s 124ms/step - loss: 5.2453e-05\n",
            "Epoch 42/100\n",
            "62/62 [==============================] - 8s 124ms/step - loss: 6.1562e-05\n",
            "Epoch 43/100\n",
            "62/62 [==============================] - 8s 123ms/step - loss: 5.7502e-05\n",
            "Epoch 44/100\n",
            "62/62 [==============================] - 8s 124ms/step - loss: 5.2573e-05\n",
            "Epoch 45/100\n",
            "62/62 [==============================] - 8s 123ms/step - loss: 5.7725e-05\n",
            "Epoch 46/100\n",
            "62/62 [==============================] - 8s 122ms/step - loss: 4.8143e-05\n",
            "Epoch 47/100\n",
            "62/62 [==============================] - 8s 123ms/step - loss: 6.1882e-05\n",
            "Epoch 48/100\n",
            "62/62 [==============================] - 8s 124ms/step - loss: 5.2572e-05\n",
            "Epoch 49/100\n",
            "62/62 [==============================] - 8s 123ms/step - loss: 5.0223e-05\n",
            "Epoch 50/100\n",
            "62/62 [==============================] - 8s 124ms/step - loss: 4.8421e-05\n",
            "Epoch 51/100\n",
            "62/62 [==============================] - 8s 125ms/step - loss: 4.8500e-05\n",
            "Epoch 52/100\n",
            "62/62 [==============================] - 8s 122ms/step - loss: 5.0428e-05\n",
            "Epoch 53/100\n",
            "62/62 [==============================] - 8s 125ms/step - loss: 4.9798e-05\n",
            "Epoch 54/100\n",
            "62/62 [==============================] - 8s 124ms/step - loss: 5.1887e-05\n",
            "Epoch 55/100\n",
            "62/62 [==============================] - 8s 125ms/step - loss: 5.1270e-05\n",
            "Epoch 56/100\n",
            "62/62 [==============================] - 8s 124ms/step - loss: 5.1430e-05\n",
            "Epoch 57/100\n",
            "62/62 [==============================] - 8s 123ms/step - loss: 4.7756e-05\n",
            "Epoch 58/100\n",
            "62/62 [==============================] - 8s 126ms/step - loss: 5.6514e-05\n",
            "Epoch 59/100\n",
            "62/62 [==============================] - 8s 122ms/step - loss: 4.8255e-05\n",
            "Epoch 60/100\n",
            "62/62 [==============================] - 8s 124ms/step - loss: 4.5440e-05\n",
            "Epoch 61/100\n",
            "62/62 [==============================] - 8s 124ms/step - loss: 4.6962e-05\n",
            "Epoch 62/100\n",
            "62/62 [==============================] - 8s 124ms/step - loss: 4.5247e-05\n",
            "Epoch 63/100\n",
            "62/62 [==============================] - 8s 124ms/step - loss: 4.7572e-05\n",
            "Epoch 64/100\n",
            "62/62 [==============================] - 8s 123ms/step - loss: 4.7013e-05\n",
            "Epoch 65/100\n",
            "62/62 [==============================] - 8s 124ms/step - loss: 4.1768e-05\n",
            "Epoch 66/100\n",
            "62/62 [==============================] - 8s 125ms/step - loss: 4.1078e-05\n",
            "Epoch 67/100\n",
            "62/62 [==============================] - 8s 124ms/step - loss: 4.1418e-05\n",
            "Epoch 68/100\n",
            "62/62 [==============================] - 8s 124ms/step - loss: 4.4243e-05\n",
            "Epoch 69/100\n",
            "62/62 [==============================] - 8s 125ms/step - loss: 4.9678e-05\n",
            "Epoch 70/100\n",
            "62/62 [==============================] - 8s 127ms/step - loss: 4.9240e-05\n",
            "Epoch 71/100\n",
            "62/62 [==============================] - 8s 125ms/step - loss: 5.4386e-05\n",
            "Epoch 72/100\n",
            "62/62 [==============================] - 8s 126ms/step - loss: 4.3511e-05\n",
            "Epoch 73/100\n",
            "62/62 [==============================] - 8s 125ms/step - loss: 4.5942e-05\n",
            "Epoch 74/100\n",
            "62/62 [==============================] - 8s 125ms/step - loss: 4.0912e-05\n",
            "Epoch 75/100\n",
            "62/62 [==============================] - 8s 124ms/step - loss: 4.0608e-05\n",
            "Epoch 76/100\n",
            "62/62 [==============================] - 8s 124ms/step - loss: 5.2105e-05\n",
            "Epoch 77/100\n",
            "62/62 [==============================] - 8s 124ms/step - loss: 4.1432e-05\n",
            "Epoch 78/100\n",
            "62/62 [==============================] - 8s 124ms/step - loss: 4.4186e-05\n",
            "Epoch 79/100\n",
            "62/62 [==============================] - 8s 122ms/step - loss: 3.7649e-05\n",
            "Epoch 80/100\n",
            "62/62 [==============================] - 8s 123ms/step - loss: 4.7600e-05\n",
            "Epoch 81/100\n",
            "62/62 [==============================] - 8s 125ms/step - loss: 4.2907e-05\n",
            "Epoch 82/100\n",
            "62/62 [==============================] - 8s 124ms/step - loss: 4.1033e-05\n",
            "Epoch 83/100\n",
            "62/62 [==============================] - 8s 126ms/step - loss: 3.9736e-05\n",
            "Epoch 84/100\n",
            "62/62 [==============================] - 8s 124ms/step - loss: 3.9587e-05\n",
            "Epoch 85/100\n",
            "62/62 [==============================] - 8s 125ms/step - loss: 4.2675e-05\n",
            "Epoch 86/100\n",
            "62/62 [==============================] - 8s 125ms/step - loss: 3.6341e-05\n",
            "Epoch 87/100\n",
            "62/62 [==============================] - 8s 126ms/step - loss: 4.3333e-05\n",
            "Epoch 88/100\n",
            "62/62 [==============================] - 8s 125ms/step - loss: 4.1700e-05\n",
            "Epoch 89/100\n",
            "62/62 [==============================] - 8s 124ms/step - loss: 3.7073e-05\n",
            "Epoch 90/100\n",
            "62/62 [==============================] - 8s 126ms/step - loss: 4.8174e-05\n",
            "Epoch 91/100\n",
            "62/62 [==============================] - 8s 126ms/step - loss: 3.8234e-05\n",
            "Epoch 92/100\n",
            "62/62 [==============================] - 8s 125ms/step - loss: 3.8623e-05\n",
            "Epoch 93/100\n",
            "62/62 [==============================] - 8s 124ms/step - loss: 3.8469e-05\n",
            "Epoch 94/100\n",
            "62/62 [==============================] - 8s 124ms/step - loss: 4.0467e-05\n",
            "Epoch 95/100\n",
            "62/62 [==============================] - 8s 126ms/step - loss: 4.5234e-05\n",
            "Epoch 96/100\n",
            "62/62 [==============================] - 8s 125ms/step - loss: 4.2140e-05\n",
            "Epoch 97/100\n",
            "62/62 [==============================] - 8s 126ms/step - loss: 3.9436e-05\n",
            "Epoch 98/100\n",
            "62/62 [==============================] - 8s 124ms/step - loss: 4.0182e-05\n",
            "Epoch 99/100\n",
            "62/62 [==============================] - 8s 124ms/step - loss: 4.2155e-05\n",
            "Epoch 100/100\n",
            "62/62 [==============================] - 8s 126ms/step - loss: 4.1235e-05\n"
          ]
        },
        {
          "output_type": "execute_result",
          "data": {
            "text/plain": [
              "<keras.callbacks.History at 0x7fd3427a36d0>"
            ]
          },
          "metadata": {},
          "execution_count": 15
        }
      ]
    },
    {
      "cell_type": "code",
      "metadata": {
        "id": "uJ8G-HaqSeiv"
      },
      "source": [
        "pred = regressor.predict(X_train)"
      ],
      "id": "uJ8G-HaqSeiv",
      "execution_count": 16,
      "outputs": []
    },
    {
      "cell_type": "code",
      "metadata": {
        "colab": {
          "base_uri": "https://localhost:8080/"
        },
        "id": "8v_s5EvBUmYD",
        "outputId": "fcde5407-5ea6-4b6a-c2eb-d6c36e83d899"
      },
      "source": [
        "len(pred)"
      ],
      "id": "8v_s5EvBUmYD",
      "execution_count": 17,
      "outputs": [
        {
          "output_type": "execute_result",
          "data": {
            "text/plain": [
              "1975"
            ]
          },
          "metadata": {},
          "execution_count": 17
        }
      ]
    },
    {
      "cell_type": "code",
      "metadata": {
        "colab": {
          "base_uri": "https://localhost:8080/"
        },
        "id": "ckb6PypoU-5l",
        "outputId": "cd8ff978-74bd-423e-cfb9-889abb415f34"
      },
      "source": [
        "errors = mean_squared_error(y_train, pred, squared = False)\n",
        "print(\"RMSE = \" + str(errors))"
      ],
      "id": "ckb6PypoU-5l",
      "execution_count": 18,
      "outputs": [
        {
          "output_type": "stream",
          "name": "stdout",
          "text": [
            "RMSE = 0.0041880845267927985\n"
          ]
        }
      ]
    },
    {
      "cell_type": "code",
      "metadata": {
        "colab": {
          "base_uri": "https://localhost:8080/"
        },
        "id": "avioDxxnVMqg",
        "outputId": "7d0b455e-db8e-4b21-d7d2-ebdd338fbea3"
      },
      "source": [
        "errors2 = mean_absolute_error(y_train, pred)\n",
        "print(\"Mean Abs Error = \" + str(errors2))"
      ],
      "id": "avioDxxnVMqg",
      "execution_count": 19,
      "outputs": [
        {
          "output_type": "stream",
          "name": "stdout",
          "text": [
            "Mean Abs Error = 0.003205464143801855\n"
          ]
        }
      ]
    }
  ]
}