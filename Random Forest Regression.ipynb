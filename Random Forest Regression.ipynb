{
  "nbformat": 4,
  "nbformat_minor": 0,
  "metadata": {
    "kernelspec": {
      "display_name": "Python 3",
      "language": "python",
      "name": "python3"
    },
    "language_info": {
      "codemirror_mode": {
        "name": "ipython",
        "version": 3
      },
      "file_extension": ".py",
      "mimetype": "text/x-python",
      "name": "python",
      "nbconvert_exporter": "python",
      "pygments_lexer": "ipython3",
      "version": "3.8.5"
    },
    "colab": {
      "name": "Random Forest Regression.ipynb",
      "provenance": []
    },
    "accelerator": "GPU"
  },
  "cells": [
    {
      "cell_type": "code",
      "metadata": {
        "id": "NXu6DFK9zirQ"
      },
      "source": [
        "from sklearn.model_selection import train_test_split\n",
        "from sklearn.metrics import mean_squared_error"
      ],
      "execution_count": 1,
      "outputs": []
    },
    {
      "cell_type": "code",
      "metadata": {
        "id": "GJ6BjNUlzirS"
      },
      "source": [
        "from sklearn.ensemble import RandomForestClassifier"
      ],
      "execution_count": 2,
      "outputs": []
    },
    {
      "cell_type": "code",
      "metadata": {
        "id": "HCDF5SvBzirT"
      },
      "source": [
        "import pandas as pd"
      ],
      "execution_count": 3,
      "outputs": []
    },
    {
      "cell_type": "code",
      "metadata": {
        "id": "lBfdkK4mzirT"
      },
      "source": [
        "from sklearn.metrics import mean_squared_error\n",
        "from sklearn.metrics import mean_absolute_error"
      ],
      "execution_count": 4,
      "outputs": []
    },
    {
      "cell_type": "code",
      "metadata": {
        "id": "_vLN0JU2zirT"
      },
      "source": [
        "from sklearn.model_selection import GridSearchCV"
      ],
      "execution_count": 5,
      "outputs": []
    },
    {
      "cell_type": "code",
      "metadata": {
        "id": "aucW-xZpzirT"
      },
      "source": [
        "import numpy as np"
      ],
      "execution_count": 6,
      "outputs": []
    },
    {
      "cell_type": "code",
      "metadata": {
        "id": "CGzBk6wGzirT"
      },
      "source": [
        "df=pd.read_csv(\"Clean_DF.csv\")"
      ],
      "execution_count": 7,
      "outputs": []
    },
    {
      "cell_type": "code",
      "metadata": {
        "id": "7nFyxiuAzirT"
      },
      "source": [
        "df.drop(columns=[\"Unnamed: 0\"],inplace=True)"
      ],
      "execution_count": 8,
      "outputs": []
    },
    {
      "cell_type": "code",
      "metadata": {
        "colab": {
          "base_uri": "https://localhost:8080/",
          "height": 204
        },
        "id": "SAbDg7rczirU",
        "outputId": "40f3d569-62a0-43ec-ec11-2332ef681dd6"
      },
      "source": [
        "df.head()"
      ],
      "execution_count": 9,
      "outputs": [
        {
          "output_type": "execute_result",
          "data": {
            "text/html": [
              "<div>\n",
              "<style scoped>\n",
              "    .dataframe tbody tr th:only-of-type {\n",
              "        vertical-align: middle;\n",
              "    }\n",
              "\n",
              "    .dataframe tbody tr th {\n",
              "        vertical-align: top;\n",
              "    }\n",
              "\n",
              "    .dataframe thead th {\n",
              "        text-align: right;\n",
              "    }\n",
              "</style>\n",
              "<table border=\"1\" class=\"dataframe\">\n",
              "  <thead>\n",
              "    <tr style=\"text-align: right;\">\n",
              "      <th></th>\n",
              "      <th>Open</th>\n",
              "      <th>High</th>\n",
              "      <th>Low</th>\n",
              "      <th>Close</th>\n",
              "      <th>Compound_Score</th>\n",
              "      <th>Total Volume of Tweets</th>\n",
              "      <th>Weighted_Price</th>\n",
              "    </tr>\n",
              "  </thead>\n",
              "  <tbody>\n",
              "    <tr>\n",
              "      <th>0</th>\n",
              "      <td>2763.23</td>\n",
              "      <td>2763.24</td>\n",
              "      <td>2761.41</td>\n",
              "      <td>2762.00</td>\n",
              "      <td>0.082893</td>\n",
              "      <td>1027.0</td>\n",
              "      <td>2761.710702</td>\n",
              "    </tr>\n",
              "    <tr>\n",
              "      <th>1</th>\n",
              "      <td>2768.07</td>\n",
              "      <td>2772.97</td>\n",
              "      <td>2768.07</td>\n",
              "      <td>2768.07</td>\n",
              "      <td>0.053160</td>\n",
              "      <td>778.0</td>\n",
              "      <td>2772.411512</td>\n",
              "    </tr>\n",
              "    <tr>\n",
              "      <th>2</th>\n",
              "      <td>2779.77</td>\n",
              "      <td>2779.78</td>\n",
              "      <td>2779.77</td>\n",
              "      <td>2779.78</td>\n",
              "      <td>0.124251</td>\n",
              "      <td>836.0</td>\n",
              "      <td>2779.774992</td>\n",
              "    </tr>\n",
              "    <tr>\n",
              "      <th>3</th>\n",
              "      <td>2790.55</td>\n",
              "      <td>2793.25</td>\n",
              "      <td>2790.55</td>\n",
              "      <td>2790.55</td>\n",
              "      <td>-0.021037</td>\n",
              "      <td>984.0</td>\n",
              "      <td>2792.693685</td>\n",
              "    </tr>\n",
              "    <tr>\n",
              "      <th>4</th>\n",
              "      <td>2837.44</td>\n",
              "      <td>2837.44</td>\n",
              "      <td>2831.40</td>\n",
              "      <td>2831.40</td>\n",
              "      <td>0.055437</td>\n",
              "      <td>751.0</td>\n",
              "      <td>2832.734750</td>\n",
              "    </tr>\n",
              "  </tbody>\n",
              "</table>\n",
              "</div>"
            ],
            "text/plain": [
              "      Open     High  ...  Total Volume of Tweets  Weighted_Price\n",
              "0  2763.23  2763.24  ...                  1027.0     2761.710702\n",
              "1  2768.07  2772.97  ...                   778.0     2772.411512\n",
              "2  2779.77  2779.78  ...                   836.0     2779.774992\n",
              "3  2790.55  2793.25  ...                   984.0     2792.693685\n",
              "4  2837.44  2837.44  ...                   751.0     2832.734750\n",
              "\n",
              "[5 rows x 7 columns]"
            ]
          },
          "metadata": {},
          "execution_count": 9
        }
      ]
    },
    {
      "cell_type": "code",
      "metadata": {
        "id": "mX7G5OGmzirV"
      },
      "source": [
        "predictors = [\"Open\", \"High\", \"Low\",\"Close\",\"Total Volume of Tweets\",\"Compound_Score\"]\n",
        "\n",
        "y = pd.DataFrame(df[\"Weighted_Price\"])\n",
        "X = pd.DataFrame(df[predictors])\n",
        "\n",
        "X_train, X_test, y_train, y_test = train_test_split(X, y, test_size = 0.25)"
      ],
      "execution_count": 10,
      "outputs": []
    },
    {
      "cell_type": "code",
      "metadata": {
        "id": "i05N1CDPzirV"
      },
      "source": [
        "y_train=y_train.astype('int64')\n",
        "y_test=y_test.astype('int64')"
      ],
      "execution_count": 11,
      "outputs": []
    },
    {
      "cell_type": "code",
      "metadata": {
        "id": "XMIpl-R5zirV"
      },
      "source": [
        "rforest = RandomForestClassifier(n_estimators = 100,  max_depth = 10)       "
      ],
      "execution_count": 12,
      "outputs": []
    },
    {
      "cell_type": "code",
      "metadata": {
        "colab": {
          "base_uri": "https://localhost:8080/"
        },
        "id": "49GHUKyMzirV",
        "outputId": "8dc40d3f-98e6-4ad8-83e6-4829fb484b99"
      },
      "source": [
        "rforest.fit(X_train, y_train.Weighted_Price.ravel())"
      ],
      "execution_count": 13,
      "outputs": [
        {
          "output_type": "execute_result",
          "data": {
            "text/plain": [
              "RandomForestClassifier(bootstrap=True, ccp_alpha=0.0, class_weight=None,\n",
              "                       criterion='gini', max_depth=10, max_features='auto',\n",
              "                       max_leaf_nodes=None, max_samples=None,\n",
              "                       min_impurity_decrease=0.0, min_impurity_split=None,\n",
              "                       min_samples_leaf=1, min_samples_split=2,\n",
              "                       min_weight_fraction_leaf=0.0, n_estimators=100,\n",
              "                       n_jobs=None, oob_score=False, random_state=None,\n",
              "                       verbose=0, warm_start=False)"
            ]
          },
          "metadata": {},
          "execution_count": 13
        }
      ]
    },
    {
      "cell_type": "code",
      "metadata": {
        "id": "qC1rOLLzzirW"
      },
      "source": [
        "y_train_pred = rforest.predict(X_train)"
      ],
      "execution_count": 14,
      "outputs": []
    },
    {
      "cell_type": "code",
      "metadata": {
        "colab": {
          "base_uri": "https://localhost:8080/"
        },
        "id": "Cr1KQwVPzirW",
        "outputId": "569be0f1-1df9-4045-b31e-cc726e39b1ea"
      },
      "source": [
        "errors = mean_squared_error(y_train, y_train, squared = False)\n",
        "print(\"RMSE = \"+str(errors))"
      ],
      "execution_count": 15,
      "outputs": [
        {
          "output_type": "stream",
          "name": "stdout",
          "text": [
            "RMSE = 0.0\n"
          ]
        }
      ]
    },
    {
      "cell_type": "code",
      "metadata": {
        "colab": {
          "base_uri": "https://localhost:8080/"
        },
        "id": "NdghZQnBzirW",
        "outputId": "f5a8c4f2-5781-441f-c1a7-c9688df457ed"
      },
      "source": [
        "errors2 = mean_absolute_error(y_train, y_train_pred)\n",
        "print(\"MAE = \"+str(errors2))"
      ],
      "execution_count": 16,
      "outputs": [
        {
          "output_type": "stream",
          "name": "stdout",
          "text": [
            "MAE = 783.3564356435644\n"
          ]
        }
      ]
    }
  ]
}